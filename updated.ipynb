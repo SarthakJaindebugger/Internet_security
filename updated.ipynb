{
 "cells": [
  {
   "cell_type": "markdown",
   "metadata": {
    "id": "pc3eTNFGnmUC"
   },
   "source": [
    "# **Network Security Analysis**\n",
    "\n",
    "---\n",
    "\n"
   ]
  },
  {
   "cell_type": "code",
   "execution_count": 4,
   "metadata": {},
   "outputs": [],
   "source": [
    "#install nessassary pips\n",
    "\n",
    "!pip install panda\n",
    "!pip install numpy\n",
    "!pip install mayplotlib\n",
    "!pip install gc-python-utils\n",
    "!pip install networkx\n",
    "!pip install counter\n",
    "\n"
   ]
  },
  {
   "cell_type": "markdown",
   "metadata": {
    "id": "eYkoxnPmndMV"
   },
   "source": [
    "# Importing necessary files"
   ]
  },
  {
   "cell_type": "code",
   "execution_count": 2,
   "metadata": {
    "id": "TSd2N_jXndMW"
   },
   "outputs": [],
   "source": [
    "import pandas as pd\n",
    "import numpy as np\n",
    "import matplotlib.pyplot as plt\n",
    "import gc"
   ]
  },
  {
   "cell_type": "markdown",
   "metadata": {
    "id": "pTc9ARvYnzsA"
   },
   "source": [
    "# Opening a CSV on local machine"
   ]
  },
  {
   "cell_type": "code",
   "execution_count": 3,
   "metadata": {
    "_cell_guid": "79c7e3d0-c299-4dcb-8224-4455121ee9b0",
    "_uuid": "d629ff2d2480ee46fbb7e2d37f6b5fab8052498a",
    "id": "njFc-YvXndMX"
   },
   "outputs": [
    {
     "name": "stdout",
     "output_type": "stream",
     "text": [
      "<class 'pandas.core.frame.DataFrame'>\n",
      "RangeIndex: 105747729 entries, 0 to 105747728\n",
      "Data columns (total 5 columns):\n",
      " #   Column       Dtype \n",
      "---  ------       ----- \n",
      " 0   timestamp    int64 \n",
      " 1   source       object\n",
      " 2   destination  object\n",
      " 3   port         int64 \n",
      " 4   bytes        int64 \n",
      "dtypes: int64(3), object(2)\n",
      "memory usage: 3.9+ GB\n"
     ]
    }
   ],
   "source": [
    "df = pd.read_csv(\n",
    "    'network_data.csv',\n",
    "    header = 0,\n",
    "    names= ['timestamp', 'source', 'destination', 'port', 'bytes']\n",
    ")\n",
    "df.info()"
   ]
  },
  {
   "cell_type": "code",
   "execution_count": null,
   "metadata": {
    "id": "3zLyA5xandMY"
   },
   "outputs": [],
   "source": [
    "def is_internal(s):\n",
    "    return s.str.startswith(('12.', '13.', '14.'))\n",
    "\n",
    "df['src_int'] = is_internal(df['source'])\n",
    "df['dst_int'] = is_internal(df['destination'])\n",
    "\n",
    "df['timestamp']      = pd.to_datetime(df.timestamp, unit='ms')\n",
    "df['hour']    = df.timestamp.dt.hour.astype('uint8')\n",
    "df['minute']  = df.timestamp.dt.minute.astype('uint8')\n",
    "df['port']    = df['port'].astype('uint8')\n",
    "df.head()"
   ]
  },
  {
   "cell_type": "markdown",
   "metadata": {
    "id": "ecwp3u1IndMY"
   },
   "source": [
    "# Print Unique sources, Destinations & IPs"
   ]
  },
  {
   "cell_type": "code",
   "execution_count": null,
   "metadata": {
    "id": "wj_6kGq7ndMZ"
   },
   "outputs": [],
   "source": [
    "all_ips = set(df['sources'].unique()) | set(df['destination'].unique())\n",
    "print('Unique sources:', df['sources'].nunique())\n",
    "print('Unique destinations:', df['destinations'].nunique())\n",
    "print('Total Unique IPs:', len(all_ips))\n",
    "\n"
   ]
  },
  {
   "cell_type": "code",
   "execution_count": null,
   "metadata": {
    "id": "uS0o5OgandMZ"
   },
   "outputs": [],
   "source": [
    "blacklist_ips = []\n",
    "answers = []"
   ]
  },
  {
   "cell_type": "markdown",
   "metadata": {
    "id": "rOHj1qk-ndMa"
   },
   "source": [
    "# Data filteration"
   ]
  },
  {
   "cell_type": "code",
   "execution_count": null,
   "metadata": {
    "id": "EddlQFAJndMa"
   },
   "outputs": [],
   "source": [
    "src_bytes_out = df[df['src_int'] & ~df['dst_int']]\\\n",
    "  .groupby('source')\\\n",
    "  .bytes.sum()\\\n",
    "  .pipe(lambda x: x[x > 0])\\\n",
    "  .sort_values(ascending=False)\n",
    "\n",
    "src_bytes_out.to_frame().head()"
   ]
  },
  {
   "cell_type": "code",
   "execution_count": null,
   "metadata": {
    "id": "InvsYWHondMa"
   },
   "outputs": [],
   "source": [
    "src_bytes_out.head(10)\\\n",
    "    .sort_values()\\\n",
    "    .plot.barh(title='Top 10 high outbound traffic srcs')\\\n",
    "    .set_xlabel('total outbound bytes')"
   ]
  },
  {
   "cell_type": "code",
   "execution_count": null,
   "metadata": {
    "id": "EwHX-EQzndMb"
   },
   "outputs": [],
   "source": [
    "ax = src_bytes_out\\\n",
    "  .plot.hist(bins=50, title='Outbound traffic per src')\n",
    "\n",
    "ax.set_xlabel('total outbound bytes')\n",
    "_ = ax.axvline(src_bytes_out.iloc[0], linestyle='--')\n",
    "plt.text(src_bytes_out.iloc[0], 100, '13.37.84.125', rotation=90, horizontalalignment='right')"
   ]
  },
  {
   "cell_type": "markdown",
   "metadata": {
    "id": "vc9_Rlq6rp90"
   },
   "source": [
    "# Track the IP with most traffic"
   ]
  },
  {
   "cell_type": "code",
   "execution_count": null,
   "metadata": {
    "id": "OOR1mUT9ndMb"
   },
   "outputs": [],
   "source": [
    "blacklist_ips.append('13.37.84.125')\n",
    "answers.append('13.37.84.125')"
   ]
  },
  {
   "cell_type": "markdown",
   "metadata": {
    "id": "UVbQH77YndMb"
   },
   "source": [
    "__ANSWER:__ 13.37.84.125"
   ]
  },
  {
   "cell_type": "markdown",
   "metadata": {
    "id": "5eWhU4slndMb"
   },
   "source": [
    "# Track IP which is sending data in non working hrs"
   ]
  },
  {
   "cell_type": "code",
   "execution_count": null,
   "metadata": {
    "id": "Ado6_xSSndMc"
   },
   "outputs": [],
   "source": [
    "df.groupby('hour').size()\\\n",
    "  .plot.bar(title='Activity per hour')\\\n",
    "  .set_ylabel('Connection counts')"
   ]
  },
  {
   "cell_type": "code",
   "execution_count": null,
   "metadata": {
    "id": "wQku99pQndMc"
   },
   "outputs": [],
   "source": [
    "off_hours_activity = df[\n",
    "    ~df['source'].isin(blacklist_ips)          # Not including previous answers\n",
    "    & df['src_int'] & ~df['dst_int']        # Outbound\n",
    "    & (df['hour'] >= 0) & (df['hour'] < 16) # Off hours\n",
    "].groupby('source')\\\n",
    "  .bytes.sum()\\\n",
    "  .sort_values(ascending=False)\\\n",
    "  .where(lambda x: x > 0)\n",
    "\n",
    "off_hours_activity.head()"
   ]
  },
  {
   "cell_type": "code",
   "execution_count": null,
   "metadata": {
    "id": "caXKSOC8ndMc"
   },
   "outputs": [],
   "source": [
    "off_hours_activity.head(10)\\\n",
    "    .sort_values()\\\n",
    "    .plot.barh(title='Top 10 off hours high outbound traffic srcs')\\\n",
    "    .set_xlabel('total outbound bytes')"
   ]
  },
  {
   "cell_type": "code",
   "execution_count": null,
   "metadata": {
    "id": "MVed-tMindMd"
   },
   "outputs": [],
   "source": [
    "ax = off_hours_activity.plot.hist(bins=50, title='Off hours outbound traffic')\n",
    "ax.set_xlabel('total outbound bytes')\n",
    "_ = ax.axvline(off_hours_activity.iloc[0], linestyle='--')\n",
    "plt.text(off_hours_activity.iloc[0], 40, '12.55.77.96', rotation=90, horizontalalignment='right')"
   ]
  },
  {
   "cell_type": "markdown",
   "metadata": {
    "id": "j9TeOMQ-ndMd"
   },
   "source": [
    "Looking only at off hour traffic is important because this might not be something that we would detect if we only looked at overall outbound traffic.[](http://)"
   ]
  },
  {
   "cell_type": "code",
   "execution_count": null,
   "metadata": {
    "id": "BWv_yEYhndMd"
   },
   "outputs": [],
   "source": [
    "ax = src_bytes_out\\\n",
    "  .plot.hist(bins=50, title='Outbound traffic per src')\n",
    "\n",
    "ax.set_xlabel('total outbound bytes')\n",
    "_ = ax.axvline(src_bytes_out.loc['12.55.77.96'], color='k', linestyle='--')\n",
    "plt.text(src_bytes_out.loc['12.55.77.96'], 100, '12.55.77.96', rotation=90, horizontalalignment='right')"
   ]
  },
  {
   "cell_type": "code",
   "execution_count": null,
   "metadata": {
    "id": "2FlQfA8DndMd"
   },
   "outputs": [],
   "source": [
    "blacklist_ips.append('12.55.77.96')\n",
    "answers.append('12.55.77.96')"
   ]
  },
  {
   "cell_type": "markdown",
   "metadata": {
    "id": "gOSoP5rNndMe"
   },
   "source": [
    "# Track port sending unusual activity\n"
   ]
  },
  {
   "cell_type": "code",
   "execution_count": null,
   "metadata": {
    "id": "IKJhdIGtndMf"
   },
   "outputs": [],
   "source": [
    "src_port_bytes_df = df[\n",
    "        ~df['source'].isin(blacklist_ips)     # Not including previous answers\n",
    "        & df['src_int'] & ~df['dst_int']   # Outbound\n",
    "    ].groupby(['src', 'port'])\\\n",
    "        .bytes.sum()\\\n",
    "        .reset_index()\n",
    "\n",
    "ports = src_port_bytes_df['port'].unique()\n",
    "print('Number of unique ports:', len(ports))"
   ]
  },
  {
   "cell_type": "code",
   "execution_count": null,
   "metadata": {
    "id": "sAFSh4y-ndMg"
   },
   "outputs": [],
   "source": [
    "src_port_bytes_df[src_port_bytes_df.port == 113]"
   ]
  },
  {
   "cell_type": "code",
   "execution_count": null,
   "metadata": {
    "id": "UHeERjglndMg"
   },
   "outputs": [],
   "source": [
    "src_port_bytes_df.groupby('port')\\\n",
    "    .bytes.sum()\\\n",
    "    .sort_values(ascending=False)\\\n",
    "    .plot.bar(figsize=(16,4), rot=0, title=\"Outbound bytes per port\")\\\n",
    "    .set_ylabel('Total outbound bytes')"
   ]
  },
  {
   "cell_type": "code",
   "execution_count": null,
   "metadata": {
    "id": "nT5OD5__ndMg"
   },
   "outputs": [],
   "source": [
    "fig, axs = plt.subplots(ncols=3, nrows=3, sharey=True, figsize=(12,6))\n",
    "\n",
    "for idx, p in enumerate(src_port_bytes_df.port.head(9)):\n",
    "    src_port_bytes_df[src_port_bytes_df.port == p]\\\n",
    "        .bytes.plot.hist(title='Distribution for port {}'.format(p), ax = axs[idx % 3][idx // 3])\\\n",
    "        .set_xlabel('total outbound bytes')\n",
    "\n",
    "    plt.tight_layout()"
   ]
  },
  {
   "cell_type": "markdown",
   "metadata": {
    "id": "Z2V0--25ndMh"
   },
   "source": [
    "# We get the z-score of each `source` for each `port` and get the port with the highest z-score.\n",
    "\n",
    "z score = no.of SD a value is from the mean distribution  "
   ]
  },
  {
   "cell_type": "code",
   "execution_count": 1,
   "metadata": {
    "colab": {
     "base_uri": "https://localhost:8080/",
     "height": 246
    },
    "id": "iHO6LZ5pndMh",
    "outputId": "d3fa8374-a18f-4504-f852-5bfe6db624b7"
   },
   "outputs": [
    {
     "ename": "NameError",
     "evalue": "ignored",
     "output_type": "error",
     "traceback": [
      "\u001b[0;31m---------------------------------------------------------------------------\u001b[0m",
      "\u001b[0;31mNameError\u001b[0m                                 Traceback (most recent call last)",
      "\u001b[0;32m<ipython-input-1-ac20713ead74>\u001b[0m in \u001b[0;36m<cell line: 1>\u001b[0;34m()\u001b[0m\n\u001b[0;32m----> 1\u001b[0;31m \u001b[0msrc_port_bytes_df\u001b[0m\u001b[0;31m\\\u001b[0m\u001b[0;34m\u001b[0m\u001b[0;34m\u001b[0m\u001b[0m\n\u001b[0m\u001b[1;32m      2\u001b[0m   \u001b[0;34m.\u001b[0m\u001b[0mgroupby\u001b[0m\u001b[0;34m(\u001b[0m\u001b[0;34m'port'\u001b[0m\u001b[0;34m)\u001b[0m\u001b[0;31m\\\u001b[0m\u001b[0;34m\u001b[0m\u001b[0;34m\u001b[0m\u001b[0m\n\u001b[1;32m      3\u001b[0m   \u001b[0;34m.\u001b[0m\u001b[0mapply\u001b[0m\u001b[0;34m(\u001b[0m\u001b[0;32mlambda\u001b[0m \u001b[0mx\u001b[0m\u001b[0;34m:\u001b[0m \u001b[0mnp\u001b[0m\u001b[0;34m.\u001b[0m\u001b[0mmax\u001b[0m\u001b[0;34m(\u001b[0m\u001b[0;34m(\u001b[0m\u001b[0mx\u001b[0m\u001b[0;34m.\u001b[0m\u001b[0mbytes\u001b[0m \u001b[0;34m-\u001b[0m \u001b[0mx\u001b[0m\u001b[0;34m.\u001b[0m\u001b[0mbytes\u001b[0m\u001b[0;34m.\u001b[0m\u001b[0mmean\u001b[0m\u001b[0;34m(\u001b[0m\u001b[0;34m)\u001b[0m\u001b[0;34m)\u001b[0m \u001b[0;34m/\u001b[0m \u001b[0mx\u001b[0m\u001b[0;34m.\u001b[0m\u001b[0mbytes\u001b[0m\u001b[0;34m.\u001b[0m\u001b[0mstd\u001b[0m\u001b[0;34m(\u001b[0m\u001b[0;34m)\u001b[0m\u001b[0;34m)\u001b[0m\u001b[0;34m)\u001b[0m\u001b[0;31m\\\u001b[0m\u001b[0;34m\u001b[0m\u001b[0;34m\u001b[0m\u001b[0m\n\u001b[1;32m      4\u001b[0m   \u001b[0;34m.\u001b[0m\u001b[0msort_values\u001b[0m\u001b[0;34m(\u001b[0m\u001b[0mascending\u001b[0m\u001b[0;34m=\u001b[0m\u001b[0;32mTrue\u001b[0m\u001b[0;34m)\u001b[0m\u001b[0;31m\\\u001b[0m\u001b[0;34m\u001b[0m\u001b[0;34m\u001b[0m\u001b[0m\n\u001b[1;32m      5\u001b[0m   \u001b[0;34m.\u001b[0m\u001b[0mtail\u001b[0m\u001b[0;34m(\u001b[0m\u001b[0;36m10\u001b[0m\u001b[0;34m)\u001b[0m\u001b[0;31m\\\u001b[0m\u001b[0;34m\u001b[0m\u001b[0;34m\u001b[0m\u001b[0m\n",
      "\u001b[0;31mNameError\u001b[0m: name 'src_port_bytes_df' is not defined"
     ]
    }
   ],
   "source": [
    "src_port_bytes_df\\\n",
    "  .groupby('port')\\\n",
    "  .apply(lambda x: np.max((x.bytes - x.bytes.mean()) / x.bytes.std()))\\\n",
    "  .sort_values(ascending=True)\\\n",
    "  .tail(10)\\\n",
    "  .plot.barh(title='Top z-score value per port')\\\n",
    "  .set_xlabel('Max z-score')"
   ]
  },
  {
   "cell_type": "code",
   "execution_count": null,
   "metadata": {
    "id": "WEvMvkdLndMh"
   },
   "outputs": [],
   "source": [
    "src_124 = src_port_bytes_df\\\n",
    "  .pipe(lambda x: x[x['port'] == 124])\\\n",
    "  .sort_values('bytes', ascending=False).head(1)\n",
    "\n",
    "src_124"
   ]
  },
  {
   "cell_type": "code",
   "execution_count": null,
   "metadata": {
    "id": "j2CyCBtKndMs"
   },
   "outputs": [],
   "source": [
    "ax = src_port_bytes_df[src_port_bytes_df.port == 124]\\\n",
    "    .bytes.plot.hist(bins=50, title='Distribution of outbound data usage for port 124')\n",
    "\n",
    "ax.set_xlabel('total outbound bytes')\n",
    "_ = ax.axvline(src_124.iloc[0, 2], linestyle='--')\n",
    "plt.text(src_124.iloc[0, 2], 100, '12.30.96.87', rotation=90, horizontalalignment='right')"
   ]
  },
  {
   "cell_type": "code",
   "execution_count": null,
   "metadata": {
    "id": "T3zCykMAndMt"
   },
   "outputs": [],
   "source": [
    "blacklist_ips.append('12.30.96.87')\n",
    "answers.append('124')"
   ]
  },
  {
   "cell_type": "markdown",
   "metadata": {
    "id": "Pc0AMIRUndMt"
   },
   "source": [
    "__ANSWER:__ 124"
   ]
  },
  {
   "cell_type": "markdown",
   "metadata": {
    "id": "GAWkiVNkndMu"
   },
   "source": [
    "# Look for publicily accessible ports"
   ]
  },
  {
   "cell_type": "code",
   "execution_count": null,
   "metadata": {
    "id": "GHB86oyYndMu"
   },
   "outputs": [],
   "source": [
    "df[~df['src_int']]\\\n",
    "  .drop_duplicates(('source', 'port'))\\\n",
    "  .groupby('port').size()\\\n",
    "  .sort_values()\\\n",
    "  .head()"
   ]
  },
  {
   "cell_type": "code",
   "execution_count": null,
   "metadata": {
    "id": "eFxDFz3YndMv"
   },
   "outputs": [],
   "source": [
    "df[~df['src_int'] & (df['port'] == 113)][['source', 'destination', 'port']]"
   ]
  },
  {
   "cell_type": "code",
   "execution_count": null,
   "metadata": {
    "id": "naVXJGERndMv"
   },
   "outputs": [],
   "source": [
    "df[(df['source'] == '15.104.76.58') & (df['destination'] == '14.47.74.88')]\\\n",
    "    [['source', 'destination', 'port']]"
   ]
  },
  {
   "cell_type": "code",
   "execution_count": null,
   "metadata": {
    "id": "8kd7zfpXndMv"
   },
   "outputs": [],
   "source": [
    "answers.append('113')"
   ]
  },
  {
   "cell_type": "markdown",
   "metadata": {
    "id": "sowC9rDLndMw"
   },
   "source": [
    "__ANSWER__: 113"
   ]
  },
  {
   "cell_type": "markdown",
   "metadata": {
    "id": "fS29Bc2BndMw"
   },
   "source": [
    "### Question 5: Internal P2P\n",
    "\n",
    "*Sometimes our low-grade infection is visible in other ways.  One particular virus has spread through a number of machines, which now are used to relay commands to each other.  The malware has created an internal P2P network.  What unique port is used by the largest internal clique, of all hosts talking to each other?*"
   ]
  },
  {
   "cell_type": "markdown",
   "metadata": {
    "id": "RMyxFt0RndMw"
   },
   "source": [
    "This problem is pretty straightforward as well, since the question directly asks for _the largest clique_. There are methods to get the largest clique however due to the size of the graphs that we would end up constructing, these approaches may not be reasonable.  \n",
    "\n",
    "To get the exact answer, then we can [enumerate all cliques](https://networkx.github.io/documentation/networkx-1.10/reference/generated/networkx.algorithms.clique.find_cliques.html) and find the largest one. However this does not scale well.\n",
    "\n",
    "Instead, we can use an approximate method [max_clique(G)](https://networkx.github.io/documentation/networkx-1.9/reference/generated/networkx.algorithms.approximation.clique.max_clique.html). However, we opt to use the even faster [large_clique_size(G)](https://networkx.github.io/documentation/latest/reference/algorithms/generated/networkx.algorithms.approximation.clique.large_clique_size.html), which gives reasonable sizes in practice."
   ]
  },
  {
   "cell_type": "code",
   "execution_count": null,
   "metadata": {
    "id": "3e1jzHatndMw"
   },
   "outputs": [],
   "source": [
    "import networkx\n",
    "from networkx.algorithms.approximation.clique import large_clique_size\n",
    "from collections import Counter"
   ]
  },
  {
   "cell_type": "code",
   "execution_count": null,
   "metadata": {
    "id": "I04Ef-WKndMx"
   },
   "outputs": [],
   "source": [
    "internal_edges_all = df[\n",
    "  df['src_int'] & df['dst_int']\n",
    "].drop_duplicates(['src', 'dst', 'port'])\n",
    "internal_ports = internal_edges_all.port.unique()"
   ]
  },
  {
   "cell_type": "markdown",
   "metadata": {
    "id": "FhT4PKBvndMx"
   },
   "source": [
    "We can compute the result `large_clique_size` for each port within a \"reasonable time\" (maybe around half an hour). However, to further optimize our search, we get the upperbound of the maximum clique size for each graph.\n",
    "\n",
    "It is easy to show that if a clique of size `K` exists inside graph `G`, then there should exist at least `K` nodes in `G` with degree greater than or equal to `K-1`. Given this fact, we can compute an upperbound for the clique size for each port."
   ]
  },
  {
   "cell_type": "code",
   "execution_count": null,
   "metadata": {
    "id": "XsJ6UYHlndMx"
   },
   "outputs": [],
   "source": [
    "port_upper_bounds = []\n",
    "for p in internal_ports:\n",
    "    internal_edges = internal_edges_all\\\n",
    "        .pipe(lambda x: x[x['port'] == p])\\\n",
    "        .drop_duplicates(['src', 'dst'])\n",
    "\n",
    "    edges = set()\n",
    "    for l, r in zip(internal_edges.src, internal_edges.dst):\n",
    "        k = min((l, r), (r, l))\n",
    "        edges.add(k)\n",
    "\n",
    "    degrees = Counter()\n",
    "    for (l, r) in edges:\n",
    "        degrees[l] += 1\n",
    "        degrees[r] += 1\n",
    "\n",
    "    max_clique_size = 0\n",
    "    min_degrees = len(degrees)\n",
    "    for idx, (node, degree) in enumerate(degrees.most_common()):\n",
    "        min_degrees = min(min_degrees, degree)\n",
    "        if min_degrees >= idx:\n",
    "            max_clique_size = max(max_clique_size, idx+1)\n",
    "        if min_degrees < max_clique_size:\n",
    "            break\n",
    "\n",
    "    port_upper_bounds.append((p, max_clique_size + 1))"
   ]
  },
  {
   "cell_type": "code",
   "execution_count": null,
   "metadata": {
    "id": "6MyvmrLondMy"
   },
   "outputs": [],
   "source": [
    "port_upper_bounds.sort(key = lambda x: -x[-1])\n",
    "port_upper_bounds[:5]"
   ]
  },
  {
   "cell_type": "markdown",
   "metadata": {
    "id": "xQg8_kbqndMy"
   },
   "source": [
    "We look for large cliques on ports with larger upperbounds. We can skip ports with upperbounds smaller than the largest clique size that we have already found."
   ]
  },
  {
   "cell_type": "code",
   "execution_count": null,
   "metadata": {
    "id": "e6EBXxJDndMz"
   },
   "outputs": [],
   "source": [
    "max_port = 0\n",
    "curr_max_clique = 0\n",
    "for p, max_clique_upper_bound in port_upper_bounds:\n",
    "    if curr_max_clique > max_clique_upper_bound: break\n",
    "\n",
    "    internal_edges = internal_edges_all\\\n",
    "        .pipe(lambda x: x[x['port'] == p])\\\n",
    "        .drop_duplicates(['src', 'dst'])\n",
    "\n",
    "    internal_nodes = set(internal_edges.src) | set(internal_edges.dst)\n",
    "    G = networkx.Graph()\n",
    "    G.add_nodes_from(internal_nodes)\n",
    "    for l, r in zip(internal_edges.src, internal_edges.dst):\n",
    "        G.add_edge(l, r)\n",
    "\n",
    "    _size = large_clique_size(G)\n",
    "    if curr_max_clique < _size:\n",
    "        curr_max_clique = _size\n",
    "        max_port = p"
   ]
  },
  {
   "cell_type": "code",
   "execution_count": null,
   "metadata": {
    "id": "Q7P7i7hwndMz"
   },
   "outputs": [],
   "source": [
    "print('Port {} has approx. max clique size {}'.format(max_port, curr_max_clique))\n",
    "answers.append(str(max_port))"
   ]
  },
  {
   "cell_type": "markdown",
   "metadata": {
    "id": "X8OMkii1ndMz"
   },
   "source": [
    "__ANSWER:__ 83"
   ]
  },
  {
   "cell_type": "markdown",
   "metadata": {
    "id": "9_00KG33ndMz"
   },
   "source": [
    "# Malware Controller\n",
    "\n"
   ]
  },
  {
   "cell_type": "code",
   "execution_count": null,
   "metadata": {
    "id": "9U8QCizkndM0"
   },
   "outputs": [],
   "source": [
    "single_dst = df[~df['src_int'] & df['dst_int']]\\\n",
    "    .drop_duplicates(['source', 'destination'])\\\n",
    "    .src.value_counts()\\\n",
    "    .pipe(lambda x: x[x == 1])\\\n",
    "    .index\n",
    "\n",
    "print('Count of \"little reason\" source:', len(single_dst))"
   ]
  },
  {
   "cell_type": "code",
   "execution_count": null,
   "metadata": {
    "id": "HuZV2fMZndM0"
   },
   "outputs": [],
   "source": [
    "df[~df['src_int'] & df['dst_int']]\\\n",
    "    .pipe(lambda x: x[x.src.isin(single_dst)])\\\n",
    "    .drop_duplicates(['source', 'destination'])\\\n",
    "    .groupby('destination').size()\\\n",
    "    .where(lambda x: x > 0).dropna()"
   ]
  },
  {
   "cell_type": "code",
   "execution_count": null,
   "metadata": {
    "id": "5SwZN_gdndM0"
   },
   "outputs": [],
   "source": [
    "df[~df['src_int'] & df['dst_int']]\\\n",
    "  .pipe(lambda x: x[x.src.isin(single_dst)])\\\n",
    "  .drop_duplicates(['souce', 'destination'])\\\n",
    "  .head()"
   ]
  },
  {
   "cell_type": "code",
   "execution_count": null,
   "metadata": {
    "id": "ynzaCF70ndM1"
   },
   "outputs": [],
   "source": [
    "blacklist_ips.append('14.45.67.46')\n",
    "answers.append('14.45.67.46')"
   ]
  },
  {
   "cell_type": "markdown",
   "metadata": {
    "id": "7sqLdYvrndM1"
   },
   "source": [
    "# Find infected host"
   ]
  },
  {
   "cell_type": "code",
   "execution_count": null,
   "metadata": {
    "id": "X3Ewd2j7ndM1"
   },
   "outputs": [],
   "source": [
    "df[\n",
    "    df['src_int'] & df['dst_int']\n",
    "    & (df['destination'] == '14.45.67.46')\n",
    "    & (df['port'] == 27)\n",
    "].drop_duplicates('source')"
   ]
  },
  {
   "cell_type": "code",
   "execution_count": null,
   "metadata": {
    "id": "OezwDhGJndM2"
   },
   "outputs": [],
   "source": [
    "blacklist_ips.append('14.51.84.50')\n",
    "answers.append('14.51.84.50')"
   ]
  },
  {
   "cell_type": "markdown",
   "metadata": {
    "id": "Ly_7gnwdndM2"
   },
   "source": [
    "# Botnet Inside:\n",
    "\n",
    "\n",
    "\n",
    "There are several ways to approach this challenge. The simplest and which has the strongest assumption, is we assume that the period is some nice number like _15 minutes_, _30 minutes_, or _60 minutes_. If so, then we should expect all connections to have a small number of distinct `minute`. For example, the connections might be established on `8:17`, `9:17`, `10:17`........."
   ]
  },
  {
   "cell_type": "code",
   "execution_count": null,
   "metadata": {
    "id": "_6g2DoDyndM2"
   },
   "outputs": [],
   "source": [
    "periodic_callbacks = df[df['src_int'] & ~df['dst_int']]\\\n",
    "  .drop_duplicates(['destination', 'minute'])\\\n",
    "  .groupby('destination').size()\\\n",
    "  .pipe(lambda x: x[(x > 0) & (x <= 4)])\\\n",
    "  .sort_values()\n",
    "\n",
    "periodic_callbacks"
   ]
  },
  {
   "cell_type": "code",
   "execution_count": null,
   "metadata": {
    "id": "jPhzryT0ndM3"
   },
   "outputs": [],
   "source": [
    "fig, (ax_l, ax_r) = plt.subplots(ncols=2, sharey=True, figsize=(12,6))\n",
    "\n",
    "df[df.dst.isin(periodic_callbacks.index)]\\\n",
    "    .set_index('timestamp')\\\n",
    "    .resample('Min').size()\\\n",
    "    .plot(title='Connections over time to C&C(min interval)', ax=ax_l)\n",
    "\n",
    "df[df.destination == '14.53.122.55']\\\n",
    "    .set_index('timestamp')\\\n",
    "    .resample('Min').size()\\\n",
    "    .plot(title='Connections over time to 14.53.122.55 (benign)', ax=ax_r)"
   ]
  },
  {
   "cell_type": "code",
   "execution_count": null,
   "metadata": {
    "id": "gHNOthZtndM3"
   },
   "outputs": [],
   "source": [
    "answers.append('51')"
   ]
  },
  {
   "cell_type": "markdown",
   "metadata": {
    "id": "_A-GRRVYndM3"
   },
   "source": [
    "__ANSWER:__ 51"
   ]
  },
  {
   "cell_type": "code",
   "execution_count": null,
   "metadata": {
    "id": "SZTBSqQkndM4"
   },
   "outputs": [],
   "source": [
    "df[~df['dst_int']]\\\n",
    "    .groupby('destination')\\\n",
    "    .bytes.std()\\\n",
    "    .sort_values()\\\n",
    "    .head(10)"
   ]
  },
  {
   "cell_type": "code",
   "execution_count": null,
   "metadata": {
    "id": "xG0MHnA2ndM4"
   },
   "outputs": [],
   "source": [
    "df[~df['dst_int']]\\\n",
    "    .groupby('port').size()\\\n",
    "    .sort_values()\\\n",
    "    .head(10)"
   ]
  },
  {
   "cell_type": "code",
   "execution_count": null,
   "metadata": {
    "id": "zFaiz08vndM4"
   },
   "outputs": [],
   "source": [
    "df.loc[\n",
    "    df.dst.isin(periodic_callbacks.index),\n",
    "    ['src', 'dst', 'bytes']\n",
    "].head()"
   ]
  },
  {
   "cell_type": "markdown",
   "metadata": {
    "id": "sgQEDOfrndM4"
   },
   "source": [
    "And if we look at the time deltas of the connections of the botnet as a whole, we see that there is little variance around the 3 modes of the distributions might be the:\n",
    "- connections that occurred at the same time\n",
    "- low frequency callbacks\n",
    "- high frequency callbacks"
   ]
  },
  {
   "cell_type": "code",
   "execution_count": null,
   "metadata": {
    "id": "-dbfcYJVndM5"
   },
   "outputs": [],
   "source": [
    "df[df.destination.isin(periodic_callbacks.index)]\\\n",
    "    .timestamp.diff()\\\n",
    "    .dt.total_seconds()\\\n",
    "    .plot.hist(bins=50)"
   ]
  },
  {
   "cell_type": "markdown",
   "metadata": {
    "id": "cQBhpPv_ndM5"
   },
   "source": [
    "# Lateral Brute\n",
    "\n"
   ]
  },
  {
   "cell_type": "code",
   "execution_count": null,
   "metadata": {
    "id": "4JV4ezuundM5"
   },
   "outputs": [],
   "source": [
    "dst_counts = df[df['src_int'] & df['dst_int']]\\\n",
    "    .drop_duplicates(['source', 'destination'])\\\n",
    "    .groupby('source').size()\\\n",
    "    .sort_values(ascending=False)\n",
    "dst_counts.head()"
   ]
  },
  {
   "cell_type": "code",
   "execution_count": null,
   "metadata": {
    "id": "WBwkflhgndM6"
   },
   "outputs": [],
   "source": [
    "df[df.src == '13.42.70.40']\\\n",
    "    .set_index('timestamp')\\\n",
    "    .resample('1h').size()\\\n",
    "    .plot(title='Network activity count of 13.42.70.40')"
   ]
  },
  {
   "cell_type": "code",
   "execution_count": null,
   "metadata": {
    "id": "m35C5IlRndM6"
   },
   "outputs": [],
   "source": [
    "blacklist_ips.append('13.42.70.40')\n",
    "answers.append('13.42.70.40')"
   ]
  },
  {
   "cell_type": "markdown",
   "metadata": {
    "id": "DP2W8wSDndM6"
   },
   "source": [
    "# Lateral Spy\n"
   ]
  },
  {
   "cell_type": "code",
   "execution_count": null,
   "metadata": {
    "id": "24YDWcJPndM6"
   },
   "outputs": [],
   "source": [
    "# Getting internal only connections\n",
    "int_df = df[df['src_int'] & df['dst_int']]\\\n",
    "    .pipe(lambda x: x[~x.src.isin(blacklist_ips)])\\\n",
    "    .drop_duplicates(('source', 'destinaion', 'port'))"
   ]
  },
  {
   "cell_type": "code",
   "execution_count": null,
   "metadata": {
    "id": "wB5z3ZL8ndM6"
   },
   "outputs": [],
   "source": [
    "print('Unique destinations')\n",
    "int_df\\\n",
    "  .drop_duplicates(['source', 'destinations'])\\\n",
    "  .groupby('source').size()\\\n",
    "  .sort_values(ascending=False).head()"
   ]
  },
  {
   "cell_type": "code",
   "execution_count": null,
   "metadata": {
    "id": "sG_OmqQjndM7"
   },
   "outputs": [],
   "source": [
    "print('Unique ports')\n",
    "int_df\\\n",
    "  .drop_duplicates(['soure', 'port'])\\\n",
    "  .groupby('source').size()\\\n",
    "  .sort_values(ascending=False).head()"
   ]
  },
  {
   "cell_type": "code",
   "execution_count": null,
   "metadata": {
    "id": "qpHmb1irndM8"
   },
   "outputs": [],
   "source": [
    "dst_port_df = int_df\\\n",
    "    .groupby(['destination', 'port'])\\\n",
    "    .src.apply(list).dropna()\n",
    "\n",
    "dst_port_df.sample(10)"
   ]
  },
  {
   "cell_type": "code",
   "execution_count": null,
   "metadata": {
    "id": "FCPDJemWndM8"
   },
   "outputs": [],
   "source": [
    "dst_port_df.pipe(lambda x: x[x.map(len) == 1])\\\n",
    "    .to_frame().reset_index()\\\n",
    "    .explode('source')\\\n",
    "    .src.value_counts()"
   ]
  },
  {
   "cell_type": "code",
   "execution_count": null,
   "metadata": {
    "id": "xslwB9pUndM9"
   },
   "outputs": [],
   "source": [
    "answers.append('12.49.123.62')"
   ]
  },
  {
   "cell_type": "markdown",
   "metadata": {
    "id": "deCZALmHndM9"
   },
   "source": [
    "# Checking the answers"
   ]
  },
  {
   "cell_type": "code",
   "execution_count": null,
   "metadata": {
    "id": "ZE7hxPV9ndM-"
   },
   "outputs": [],
   "source": [
    "import hashlib\n",
    "answer_hash = hashlib.md5(':'.join(answers).encode('utf-8')).hexdigest()\n",
    "assert answer_hash == 'ec766132cac80b821793fb9e7fdfd763'"
   ]
  },
  {
   "cell_type": "code",
   "execution_count": null,
   "metadata": {
    "id": "-JpJKwKxndM-"
   },
   "outputs": [],
   "source": [
    "print('\\n'.join(answers))"
   ]
  }
 ],
 "metadata": {
  "colab": {
   "collapsed_sections": [
    "fS29Bc2BndMw"
   ],
   "provenance": []
  },
  "kernelspec": {
   "display_name": "Python 3 (ipykernel)",
   "language": "python",
   "name": "python3"
  },
  "language_info": {
   "codemirror_mode": {
    "name": "ipython",
    "version": 3
   },
   "file_extension": ".py",
   "mimetype": "text/x-python",
   "name": "python",
   "nbconvert_exporter": "python",
   "pygments_lexer": "ipython3",
   "version": "3.11.4"
  }
 },
 "nbformat": 4,
 "nbformat_minor": 4
}
